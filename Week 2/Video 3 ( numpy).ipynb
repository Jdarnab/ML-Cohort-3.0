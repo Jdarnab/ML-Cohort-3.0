{
 "cells": [
  {
   "cell_type": "code",
   "execution_count": 1,
   "id": "8d254df2-ec49-42a5-be8f-3bdd9d9a1214",
   "metadata": {},
   "outputs": [
    {
     "name": "stdout",
     "output_type": "stream",
     "text": [
      "[1, 2, 3, 4, 5]\n"
     ]
    }
   ],
   "source": [
    "import numpy as np\n",
    "list = [1,2,3,4,5]\n",
    "print(list)"
   ]
  },
  {
   "cell_type": "code",
   "execution_count": 2,
   "id": "61deb6cb-a777-4226-8a50-0d8cc66f2a54",
   "metadata": {},
   "outputs": [
    {
     "name": "stdout",
     "output_type": "stream",
     "text": [
      " 1D Array\n",
      "[1 2 3 4]\n",
      "2D Array [[1 2 3]\n",
      " [2 4 5]]\n",
      "3D Array\n",
      "[[[ 1  2  3  4]\n",
      "  [11 55  4  4]\n",
      "  [ 7 88 77 77]]]\n"
     ]
    }
   ],
   "source": [
    "print (' 1D Array')\n",
    "a= np.array ( [1,2,3,4])\n",
    "print (a)\n",
    "###\n",
    "b= np.array ( [[ 1,2,3],\n",
    "               [2,4,5,]])\n",
    "\n",
    "print('2D Array',b)\n",
    "###\n",
    "print ( '3D Array')\n",
    "c= np.array ([[[1,2,3,4],\n",
    "               [11,55,4,4],\n",
    "               [7,88,77,77]]])\n",
    "print (c)"
   ]
  },
  {
   "cell_type": "code",
   "execution_count": 3,
   "id": "9b88ff95-0961-4962-b950-28ac9c62ea98",
   "metadata": {},
   "outputs": [
    {
     "name": "stdout",
     "output_type": "stream",
     "text": [
      "4\n",
      "6\n",
      "12\n"
     ]
    }
   ],
   "source": [
    "print(a.size)\n",
    "print(b.size)\n",
    "print(c.size)\n"
   ]
  },
  {
   "cell_type": "code",
   "execution_count": 4,
   "id": "92729190-ca8f-4ba4-b755-6694fad28a5b",
   "metadata": {},
   "outputs": [
    {
     "name": "stdout",
     "output_type": "stream",
     "text": [
      "(4,)\n",
      "(2, 3)\n",
      "(1, 3, 4)\n"
     ]
    }
   ],
   "source": [
    "print(a.shape)\n",
    "print(b.shape)\n",
    "print(c.shape)"
   ]
  },
  {
   "cell_type": "code",
   "execution_count": 5,
   "id": "0da57f1f-172a-4ea7-b729-7dd852d5d421",
   "metadata": {},
   "outputs": [
    {
     "name": "stdout",
     "output_type": "stream",
     "text": [
      "float64\n"
     ]
    }
   ],
   "source": [
    "x= np.array ([[11,200.2,56454.5,4],\n",
    "              [44,55,2.2,100.1]])\n",
    "print(x.dtype)"
   ]
  },
  {
   "cell_type": "code",
   "execution_count": 6,
   "id": "662da7c2-54b7-45e0-84c1-e25564be8abd",
   "metadata": {},
   "outputs": [
    {
     "name": "stdout",
     "output_type": "stream",
     "text": [
      "[[  1.   44. ]\n",
      " [  2.   44. ]\n",
      " [ 33.    5.5]\n",
      " [ 44.  100. ]]\n"
     ]
    }
   ],
   "source": [
    "#Task Assigned for Week 2 Day 2\n",
    "a= np.array([[1,2,33,44],\n",
    "             [44,44,5.5,100]])\n",
    "print (a.T) "
   ]
  },
  {
   "cell_type": "code",
   "execution_count": 7,
   "id": "d4a4e277-f89b-426e-997b-3c5ae10aeb09",
   "metadata": {},
   "outputs": [
    {
     "name": "stdout",
     "output_type": "stream",
     "text": [
      "[[ 2.   4.   6. ]\n",
      " [46.   9.  65.5]]\n"
     ]
    }
   ],
   "source": [
    "x= np.array([[1,2,3],\n",
    "             [44,5,60.5]])\n",
    "print(x+b)"
   ]
  },
  {
   "cell_type": "code",
   "execution_count": null,
   "id": "e172724c-5f24-407e-8f88-c8abe0f68795",
   "metadata": {},
   "outputs": [],
   "source": []
  }
 ],
 "metadata": {
  "kernelspec": {
   "display_name": "Python 3 (ipykernel)",
   "language": "python",
   "name": "python3"
  },
  "language_info": {
   "codemirror_mode": {
    "name": "ipython",
    "version": 3
   },
   "file_extension": ".py",
   "mimetype": "text/x-python",
   "name": "python",
   "nbconvert_exporter": "python",
   "pygments_lexer": "ipython3",
   "version": "3.11.9"
  }
 },
 "nbformat": 4,
 "nbformat_minor": 5
}
